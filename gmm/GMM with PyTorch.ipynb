{
 "cells": [
  {
   "cell_type": "markdown",
   "metadata": {},
   "source": [
    "# Maximum Likelihood Estimation of a multivariate Gaussian model\n",
    "\n",
    "The goal of this notebook is to use PyTorch to implement Gradient-based MLE for a multivariate Gaussian model."
   ]
  },
  {
   "cell_type": "code",
   "execution_count": 1,
   "metadata": {
    "collapsed": true
   },
   "outputs": [],
   "source": [
    "%matplotlib inline\n",
    "import numpy as np\n",
    "import matplotlib.pyplot as plt"
   ]
  },
  {
   "cell_type": "markdown",
   "metadata": {},
   "source": [
    "## Single 2D Gaussian component\n",
    "\n",
    "Let's generate a some data by sampling a multivariate Gaussian with an arbitrary covariance matrix:"
   ]
  },
  {
   "cell_type": "code",
   "execution_count": 2,
   "metadata": {},
   "outputs": [
    {
     "data": {
      "text/plain": [
       "array([ 0.49671415, -0.1382643 ])"
      ]
     },
     "execution_count": 2,
     "metadata": {},
     "output_type": "execute_result"
    }
   ],
   "source": [
    "rng = np.random.RandomState(42)\n",
    "n_features = 2\n",
    "\n",
    "mean = rng.randn(n_features)\n",
    "mean"
   ]
  },
  {
   "cell_type": "code",
   "execution_count": 3,
   "metadata": {},
   "outputs": [
    {
     "data": {
      "text/plain": [
       "array([[ 2.73912039, -0.50825603],\n",
       "       [-0.50825603,  0.10964792]])"
      ]
     },
     "execution_count": 3,
     "metadata": {},
     "output_type": "execute_result"
    }
   ],
   "source": [
    "h = rng.randn(n_features, n_features)\n",
    "Cov = h @ h.T\n",
    "Cov"
   ]
  },
  {
   "cell_type": "code",
   "execution_count": 4,
   "metadata": {},
   "outputs": [
    {
     "data": {
      "text/plain": [
       "array([[ 1.61547341,  0.        ],\n",
       "       [ 7.48827815,  3.01995037]])"
      ]
     },
     "execution_count": 4,
     "metadata": {},
     "output_type": "execute_result"
    }
   ],
   "source": [
    "np.linalg.cholesky(np.linalg.inv(Cov))"
   ]
  },
  {
   "cell_type": "code",
   "execution_count": 5,
   "metadata": {},
   "outputs": [
    {
     "data": {
      "image/png": "[encoded data removed]",
      "text/plain": [
       "<matplotlib.figure.Figure at 0x7f3b1979f128>"
      ]
     },
     "metadata": {},
     "output_type": "display_data"
    }
   ],
   "source": [
    "n_samples = 100\n",
    "data = rng.multivariate_normal(mean, Cov, size=n_samples)\n",
    "plt.scatter(data[:, 0], data[:, 1]);"
   ]
  },
  {
   "cell_type": "markdown",
   "metadata": {},
   "source": [
    "Let's compute the MLE estimate from this data using the closed-form formula:"
   ]
  },
  {
   "cell_type": "code",
   "execution_count": 6,
   "metadata": {},
   "outputs": [
    {
     "data": {
      "text/plain": [
       "array([ 0.70263098, -0.17305392])"
      ]
     },
     "execution_count": 6,
     "metadata": {},
     "output_type": "execute_result"
    }
   ],
   "source": [
    "mu_mle = data.mean(axis=0)\n",
    "mu_mle"
   ]
  },
  {
   "cell_type": "code",
   "execution_count": 7,
   "metadata": {},
   "outputs": [
    {
     "data": {
      "text/plain": [
       "array([[ 2.0476404 , -0.38824024],\n",
       "       [-0.38824024,  0.08873728]])"
      ]
     },
     "execution_count": 7,
     "metadata": {},
     "output_type": "execute_result"
    }
   ],
   "source": [
    "Cov_mle = (data - mu_mle).T @ (data - mu_mle) / n_samples\n",
    "Cov_mle"
   ]
  },
  {
   "cell_type": "code",
   "execution_count": 8,
   "metadata": {},
   "outputs": [
    {
     "data": {
      "text/plain": [
       "array([[ 1.69266713,  0.        ],\n",
       "       [ 7.40569797,  3.356966  ]])"
      ]
     },
     "execution_count": 8,
     "metadata": {},
     "output_type": "execute_result"
    }
   ],
   "source": [
    "np.linalg.cholesky(np.linalg.inv(Cov_mle))"
   ]
  },
  {
   "cell_type": "markdown",
   "metadata": {},
   "source": [
    "## Parametrisation of a positive definite matrix\n",
    "\n",
    "\n",
    "Let's parametrize the precision matrix `P` (inverse of a covariance matrix `C`) as follows:\n",
    "\n",
    "- `P` has Cholesky decomposition `H`\n",
    "- `H` is a lower triangular with a positive diagonal\n",
    "- the log of the diagonal entry is stored in a vector of parameters named `d`\n",
    "- the off diagonal elements of `H` are stored in the matrix of parameters named `W`"
   ]
  },
  {
   "cell_type": "code",
   "execution_count": 9,
   "metadata": {},
   "outputs": [
    {
     "data": {
      "text/plain": [
       "Variable containing:\n",
       " 7.3891 -1.4755\n",
       "-1.4755  7.6837\n",
       "[torch.FloatTensor of size 2x2]"
      ]
     },
     "execution_count": 9,
     "metadata": {},
     "output_type": "execute_result"
    }
   ],
   "source": [
    "import torch\n",
    "from torch.autograd import Variable\n",
    "\n",
    "mu = Variable(torch.zeros(n_features), requires_grad=True)\n",
    "d = Variable(torch.ones(n_features), requires_grad=True)\n",
    "W = Variable(torch.randn(n_features, n_features), requires_grad=True)\n",
    "H = torch.diag(torch.exp(d)) + torch.tril(W, -1)\n",
    "P = H @ H.transpose(1, 0)\n",
    "P"
   ]
  },
  {
   "cell_type": "markdown",
   "metadata": {},
   "source": [
    "Let's check that H is the actual Cholesky decomposition of P:"
   ]
  },
  {
   "cell_type": "code",
   "execution_count": 10,
   "metadata": {},
   "outputs": [
    {
     "data": {
      "text/plain": [
       "array([[ 2.71828175,  0.        ],\n",
       "       [-0.54281157,  2.71828175]], dtype=float32)"
      ]
     },
     "execution_count": 10,
     "metadata": {},
     "output_type": "execute_result"
    }
   ],
   "source": [
    "H.data.numpy()"
   ]
  },
  {
   "cell_type": "code",
   "execution_count": 11,
   "metadata": {},
   "outputs": [
    {
     "data": {
      "text/plain": [
       "array([[ 2.71828175,  0.        ],\n",
       "       [-0.54281157,  2.71828175]], dtype=float32)"
      ]
     },
     "execution_count": 11,
     "metadata": {},
     "output_type": "execute_result"
    }
   ],
   "source": [
    "np.linalg.cholesky(P.data.numpy())"
   ]
  },
  {
   "cell_type": "markdown",
   "metadata": {},
   "source": [
    "`P` is positive semi-definite by construction (product of a matrix `H` by its transposed).\n",
    "\n",
    "Because of we take the `exp` of `d` to build the diagonal elements of `H`, the determinant of `H` and therefore `P` is stricly positive.\n",
    "\n",
    "`P` is therefore is positive definite, whatever the values the parameters in `d` and `W`. Because the Cholesky decomposition exists for any symmetric positive-definite  matrix and is unique and `exp` is a bijection from $\\mathbb{R}$ to $\\mathbb{R}^+$, this parametrization of the manifold of positive definite matrices is bijective."
   ]
  },
  {
   "cell_type": "code",
   "execution_count": 12,
   "metadata": {},
   "outputs": [
    {
     "data": {
      "text/plain": [
       "54.598145"
      ]
     },
     "execution_count": 12,
     "metadata": {},
     "output_type": "execute_result"
    }
   ],
   "source": [
    "np.linalg.det(P.data.numpy())"
   ]
  },
  {
   "cell_type": "code",
   "execution_count": 13,
   "metadata": {},
   "outputs": [
    {
     "data": {
      "text/plain": [
       "54.598144564972472"
      ]
     },
     "execution_count": 13,
     "metadata": {},
     "output_type": "execute_result"
    }
   ],
   "source": [
    "np.linalg.det(H.data.numpy()) ** 2"
   ]
  },
  {
   "cell_type": "markdown",
   "metadata": {},
   "source": [
    "The determinant of `P` is cheap to compute from the `d` parameters directly:"
   ]
  },
  {
   "cell_type": "code",
   "execution_count": 14,
   "metadata": {},
   "outputs": [
    {
     "data": {
      "text/plain": [
       "54.59814456497247"
      ]
     },
     "execution_count": 14,
     "metadata": {},
     "output_type": "execute_result"
    }
   ],
   "source": [
    "torch.prod(torch.exp(d.data) ** 2)"
   ]
  },
  {
   "cell_type": "markdown",
   "metadata": {},
   "source": [
    "Let's use the above function to define the log-likelihood of a Gaussian model:"
   ]
  },
  {
   "cell_type": "code",
   "execution_count": 15,
   "metadata": {
    "collapsed": true
   },
   "outputs": [],
   "source": [
    "from math import log\n",
    "\n",
    "\n",
    "def loglik(X, mu, d, W):\n",
    "    \"\"\"Compute the average log-likelihood of samples\n",
    "    \n",
    "    X shape: (n_samples, n_features)\n",
    "        data points\n",
    "        \n",
    "    mu: shape: (n_features,)\n",
    "        parameters of the mean of the Gaussian.\n",
    "    \n",
    "    d: shape: (n_features,)\n",
    "        parameters of the diagonal of the Cholesky factor of the\n",
    "        precision matrix of the Gaussian.\n",
    "        \n",
    "    W: shape: (n_features, n_features)\n",
    "        parameters of the off-diagonal of the Cholesky factor of the\n",
    "        precision matrix of the Gaussian. The upper-diagonal elements\n",
    "        are ignored.\n",
    "    \"\"\"\n",
    "    H = torch.diag(torch.exp(d)) + torch.tril(W, -1)\n",
    "    P = H @ H.transpose(1, 0)\n",
    "    diff = X - mu\n",
    "    quad_form = torch.sum(diff * (diff @ P), dim=1)\n",
    "    return (-0.5 * log(2 * np.pi) + torch.sum(d) - 0.5 * quad_form)\n",
    "\n",
    "\n",
    "def nll(X, mu, d, W):\n",
    "    \"\"\"Average negative log likelihood loss to minimize\"\"\"\n",
    "    return -torch.mean(loglik(X, mu, d, W))"
   ]
  },
  {
   "cell_type": "code",
   "execution_count": 16,
   "metadata": {},
   "outputs": [
    {
     "data": {
      "text/plain": [
       "Variable containing:\n",
       " 9.5162\n",
       "[torch.FloatTensor of size 1]"
      ]
     },
     "execution_count": 16,
     "metadata": {},
     "output_type": "execute_result"
    }
   ],
   "source": [
    "X = Variable(torch.FloatTensor(data))\n",
    "loss = nll(X, mu, d, W)\n",
    "loss"
   ]
  },
  {
   "cell_type": "code",
   "execution_count": 17,
   "metadata": {
    "collapsed": true
   },
   "outputs": [],
   "source": [
    "loss.backward([torch.ones(1)])"
   ]
  },
  {
   "cell_type": "code",
   "execution_count": 18,
   "metadata": {},
   "outputs": [
    {
     "data": {
      "text/plain": [
       "Variable containing:\n",
       "-5.4471\n",
       " 2.3664\n",
       "[torch.FloatTensor of size 2]"
      ]
     },
     "execution_count": 18,
     "metadata": {},
     "output_type": "execute_result"
    }
   ],
   "source": [
    "mu.grad"
   ]
  },
  {
   "cell_type": "code",
   "execution_count": 19,
   "metadata": {},
   "outputs": [
    {
     "data": {
      "text/plain": [
       "Variable containing:\n",
       " 18.5303\n",
       " -0.1230\n",
       "[torch.FloatTensor of size 2]"
      ]
     },
     "execution_count": 19,
     "metadata": {},
     "output_type": "execute_result"
    }
   ],
   "source": [
    "d.grad"
   ]
  },
  {
   "cell_type": "code",
   "execution_count": 20,
   "metadata": {},
   "outputs": [
    {
     "data": {
      "text/plain": [
       "Variable containing:\n",
       " 0.0000  0.0000\n",
       "-1.4503  0.0000\n",
       "[torch.FloatTensor of size 2x2]"
      ]
     },
     "execution_count": 20,
     "metadata": {},
     "output_type": "execute_result"
    }
   ],
   "source": [
    "W.grad"
   ]
  },
  {
   "cell_type": "code",
   "execution_count": 21,
   "metadata": {},
   "outputs": [
    {
     "data": {
      "text/plain": [
       "Variable containing:\n",
       " 0.1816\n",
       "[torch.FloatTensor of size 1]"
      ]
     },
     "execution_count": 21,
     "metadata": {},
     "output_type": "execute_result"
    }
   ],
   "source": [
    "H_mle = torch.FloatTensor(np.linalg.cholesky(np.linalg.inv(Cov_mle)))\n",
    "d_mle = Variable(torch.log(torch.diag(H_mle)))\n",
    "W_mle = Variable(torch.tril(H_mle, -1))\n",
    "nll(X, Variable(torch.FloatTensor(mu_mle)), d_mle, W_mle)"
   ]
  },
  {
   "cell_type": "code",
   "execution_count": 22,
   "metadata": {},
   "outputs": [
    {
     "name": "stdout",
     "output_type": "stream",
     "text": [
      "0 9.516191482543945\n",
      "100 0.36440008878707886\n",
      "200 0.19654464721679688\n",
      "300 0.1821846216917038\n",
      "400 0.18160586059093475\n",
      "500 0.18159542977809906\n",
      "600 0.18159565329551697\n",
      "700 0.18161100149154663\n",
      "800 0.18159569799900055\n",
      "900 0.18159551918506622\n",
      "1000 0.18159547448158264\n",
      "1100 0.18226905167102814\n",
      "1200 0.18159545958042145\n",
      "1300 0.1815958023071289\n",
      "1400 0.18162307143211365\n",
      "1500 0.18159577250480652\n",
      "1600 0.1815953552722931\n",
      "1700 0.18165569007396698\n",
      "1800 0.18159538507461548\n",
      "1900 0.18159548938274384\n"
     ]
    }
   ],
   "source": [
    "learning_rate = 1e-1\n",
    "optimizer = torch.optim.Adam([mu, d, W], lr=learning_rate)\n",
    "for t in range(2000):\n",
    "    # Compute and print loss.\n",
    "    loss = nll(X, mu, d, W)\n",
    "    if t % 100 == 0:\n",
    "        print(t, loss.data[0])\n",
    "    optimizer.zero_grad()\n",
    "    loss.backward()\n",
    "    optimizer.step()"
   ]
  },
  {
   "cell_type": "code",
   "execution_count": 23,
   "metadata": {},
   "outputs": [
    {
     "data": {
      "text/plain": [
       "array([ 0.70263098, -0.17305392])"
      ]
     },
     "execution_count": 23,
     "metadata": {},
     "output_type": "execute_result"
    }
   ],
   "source": [
    "mu_mle"
   ]
  },
  {
   "cell_type": "code",
   "execution_count": 24,
   "metadata": {},
   "outputs": [
    {
     "data": {
      "text/plain": [
       "Variable containing:\n",
       " 0.7028\n",
       "-0.1725\n",
       "[torch.FloatTensor of size 2]"
      ]
     },
     "execution_count": 24,
     "metadata": {},
     "output_type": "execute_result"
    }
   ],
   "source": [
    "mu"
   ]
  },
  {
   "cell_type": "code",
   "execution_count": 25,
   "metadata": {},
   "outputs": [
    {
     "data": {
      "text/plain": [
       "Variable containing:\n",
       " 0.5263\n",
       " 1.2110\n",
       "[torch.FloatTensor of size 2]"
      ]
     },
     "execution_count": 25,
     "metadata": {},
     "output_type": "execute_result"
    }
   ],
   "source": [
    "d_mle"
   ]
  },
  {
   "cell_type": "code",
   "execution_count": 26,
   "metadata": {},
   "outputs": [
    {
     "data": {
      "text/plain": [
       "Variable containing:\n",
       " 0.5263\n",
       " 1.2110\n",
       "[torch.FloatTensor of size 2]"
      ]
     },
     "execution_count": 26,
     "metadata": {},
     "output_type": "execute_result"
    }
   ],
   "source": [
    "d"
   ]
  },
  {
   "cell_type": "code",
   "execution_count": 27,
   "metadata": {},
   "outputs": [
    {
     "data": {
      "text/plain": [
       "Variable containing:\n",
       "-0.0000  0.0000\n",
       " 7.4055 -0.0000\n",
       "[torch.FloatTensor of size 2x2]"
      ]
     },
     "execution_count": 27,
     "metadata": {},
     "output_type": "execute_result"
    }
   ],
   "source": [
    "W * Variable(torch.tril(torch.ones(n_features, n_features), -1))"
   ]
  },
  {
   "cell_type": "code",
   "execution_count": 28,
   "metadata": {},
   "outputs": [
    {
     "data": {
      "text/plain": [
       "Variable containing:\n",
       " 0.0000  0.0000\n",
       " 7.4057  0.0000\n",
       "[torch.FloatTensor of size 2x2]"
      ]
     },
     "execution_count": 28,
     "metadata": {},
     "output_type": "execute_result"
    }
   ],
   "source": [
    "W_mle"
   ]
  },
  {
   "cell_type": "markdown",
   "metadata": {},
   "source": [
    "## Mixture of 2D Gaussian components\n",
    "\n",
    "Let's generate some ground truth Gaussian Mixture Model with 3 components."
   ]
  },
  {
   "cell_type": "code",
   "execution_count": 29,
   "metadata": {},
   "outputs": [
    {
     "data": {
      "text/plain": [
       "[array([ 1.49014246, -0.4147929 ]),\n",
       " array([ 1.94306561,  4.56908957]),\n",
       " array([-0.70246012, -0.70241087])]"
      ]
     },
     "execution_count": 29,
     "metadata": {},
     "output_type": "execute_result"
    }
   ],
   "source": [
    "rng = np.random.RandomState(42)\n",
    "n_features = 2\n",
    "n_components = 3\n",
    "\n",
    "true_means = [rng.randn(n_features) * 3 for _ in range(n_components)]\n",
    "true_means"
   ]
  },
  {
   "cell_type": "code",
   "execution_count": 30,
   "metadata": {
    "collapsed": true
   },
   "outputs": [],
   "source": [
    "true_covariances = []\n",
    "for _ in range(n_components):\n",
    "    h = rng.randn(n_features, n_features)\n",
    "    true_covariances.append(h @ h.T)"
   ]
  },
  {
   "cell_type": "markdown",
   "metadata": {},
   "source": [
    "Let's generate some data from the ground truth model:"
   ]
  },
  {
   "cell_type": "code",
   "execution_count": 31,
   "metadata": {},
   "outputs": [
    {
     "data": {
      "image/png": "[encoded data removed]",
      "text/plain": [
       "<matplotlib.figure.Figure at 0x7f3b0d97ba58>"
      ]
     },
     "metadata": {},
     "output_type": "display_data"
    }
   ],
   "source": [
    "from sklearn.utils import shuffle\n",
    "\n",
    "n_samples_per_component = 100\n",
    "\n",
    "samples = []\n",
    "component_ids = []\n",
    "\n",
    "for i, mean, Cov in zip(range(n_components), true_means, true_covariances):\n",
    "    data = rng.multivariate_normal(mean, Cov, size=n_samples_per_component)\n",
    "    samples.append(data)\n",
    "    component_ids.append(i * np.ones(n_samples_per_component, dtype=np.int32))\n",
    "    plt.scatter(data[:, 0], data[:, 1])\n",
    "    \n",
    "data = np.vstack(samples)\n",
    "component_ids = np.concatenate(component_ids)\n",
    "\n",
    "data, component_ids = shuffle(data, component_ids, random_state=0)"
   ]
  },
  {
   "cell_type": "markdown",
   "metadata": {},
   "source": [
    "There is no closed form formula for the MLE. Let's use the scikit-learn implementation of the EM algorithm instead:"
   ]
  },
  {
   "cell_type": "code",
   "execution_count": 32,
   "metadata": {
    "collapsed": true
   },
   "outputs": [],
   "source": [
    "from sklearn.mixture import GaussianMixture\n",
    "\n",
    "\n",
    "gmm_em = GaussianMixture(n_components=3, random_state=0).fit(data)"
   ]
  },
  {
   "cell_type": "markdown",
   "metadata": {},
   "source": [
    "Average loglikelihood of the data under the EM-MLE model (higher is better):"
   ]
  },
  {
   "cell_type": "code",
   "execution_count": 33,
   "metadata": {},
   "outputs": [
    {
     "data": {
      "text/plain": [
       "-3.6213242571063557"
      ]
     },
     "execution_count": 33,
     "metadata": {},
     "output_type": "execute_result"
    }
   ],
   "source": [
    "gmm_em.score(data)"
   ]
  },
  {
   "cell_type": "code",
   "execution_count": 34,
   "metadata": {},
   "outputs": [
    {
     "data": {
      "text/plain": [
       "array([[-0.60843729, -0.7027044 ],\n",
       "       [ 1.94313479,  4.48270848],\n",
       "       [ 1.51596953, -0.53611044]])"
      ]
     },
     "execution_count": 34,
     "metadata": {},
     "output_type": "execute_result"
    }
   ],
   "source": [
    "gmm_em.means_"
   ]
  },
  {
   "cell_type": "code",
   "execution_count": 35,
   "metadata": {},
   "outputs": [
    {
     "data": {
      "text/plain": [
       "[array([ 1.49014246, -0.4147929 ]),\n",
       " array([ 1.94306561,  4.56908957]),\n",
       " array([-0.70246012, -0.70241087])]"
      ]
     },
     "execution_count": 35,
     "metadata": {},
     "output_type": "execute_result"
    }
   ],
   "source": [
    "true_means"
   ]
  },
  {
   "cell_type": "code",
   "execution_count": 36,
   "metadata": {},
   "outputs": [
    {
     "data": {
      "text/plain": [
       "array([ 0.32384082,  0.35908973,  0.31706944])"
      ]
     },
     "execution_count": 36,
     "metadata": {},
     "output_type": "execute_result"
    }
   ],
   "source": [
    "gmm_em.weights_"
   ]
  },
  {
   "cell_type": "code",
   "execution_count": 37,
   "metadata": {},
   "outputs": [
    {
     "data": {
      "text/plain": [
       "array([[[ 3.7638645 ,  1.71761884],\n",
       "        [ 1.71761884,  1.15973123]],\n",
       "\n",
       "       [[ 0.30253199,  0.76447466],\n",
       "        [ 0.76447466,  4.88339622]],\n",
       "\n",
       "       [[ 2.72596464, -0.17407796],\n",
       "        [-0.17407796,  0.37998651]]])"
      ]
     },
     "execution_count": 37,
     "metadata": {},
     "output_type": "execute_result"
    }
   ],
   "source": [
    "gmm_em.covariances_"
   ]
  },
  {
   "cell_type": "code",
   "execution_count": 38,
   "metadata": {},
   "outputs": [
    {
     "data": {
      "text/plain": [
       "array([[[ 3.08286918, -0.32502055],\n",
       "        [-0.32502055,  0.5147776 ]],\n",
       "\n",
       "       [[ 0.43166016,  0.77894194],\n",
       "        [ 0.77894194,  3.71918704]],\n",
       "\n",
       "       [[ 3.29150879,  1.5703531 ],\n",
       "        [ 1.5703531 ,  1.12457826]]])"
      ]
     },
     "execution_count": 38,
     "metadata": {},
     "output_type": "execute_result"
    }
   ],
   "source": [
    "np.asarray(true_covariances)"
   ]
  },
  {
   "cell_type": "markdown",
   "metadata": {},
   "source": [
    "Let's find the MLE by gradient descent. First we need a helper function to compute the log of the sum of likelihoods of the components in a numerically stable way:"
   ]
  },
  {
   "cell_type": "code",
   "execution_count": 39,
   "metadata": {},
   "outputs": [
    {
     "data": {
      "text/plain": [
       "\n",
       " 0.6123\n",
       " 1.8312\n",
       " 1.1842\n",
       " 0.6889\n",
       "[torch.FloatTensor of size 4]"
      ]
     },
     "execution_count": 39,
     "metadata": {},
     "output_type": "execute_result"
    }
   ],
   "source": [
    "def logsumexp(data, dim=0):\n",
    "    \"\"\"Numerically stable log sum exp\"\"\"\n",
    "    max_score, _ = torch.max(data, dim)\n",
    "    if dim == 0:\n",
    "        max_score_bcast = max_score\n",
    "    elif dim == 1:\n",
    "        max_score_bcast = max_score.view(-1, 1)\n",
    "    else:\n",
    "        raise NotImplemented(\"logsumexp with dim=%d is not supported\" % dim)\n",
    "    return max_score + torch.log(torch.sum(torch.exp(data - max_score_bcast), dim))\n",
    "\n",
    "\n",
    "test_data = torch.randn(3, 4)\n",
    "logsumexp(test_data, 0)"
   ]
  },
  {
   "cell_type": "code",
   "execution_count": 40,
   "metadata": {},
   "outputs": [
    {
     "data": {
      "text/plain": [
       "\n",
       " 0.6123\n",
       " 1.8312\n",
       " 1.1842\n",
       " 0.6889\n",
       "[torch.FloatTensor of size 4]"
      ]
     },
     "execution_count": 40,
     "metadata": {},
     "output_type": "execute_result"
    }
   ],
   "source": [
    "torch.log(torch.sum(torch.exp(test_data), 0))"
   ]
  },
  {
   "cell_type": "code",
   "execution_count": 41,
   "metadata": {
    "collapsed": true
   },
   "outputs": [],
   "source": [
    "X = Variable(torch.FloatTensor(data))\n",
    "\n",
    "\n",
    "logsotfmax = torch.nn.LogSoftmax()\n",
    "weights = Variable(torch.ones(1, n_components), requires_grad=True)\n",
    "\n",
    "means = []\n",
    "prec_diags = []\n",
    "prec_off_diags = []\n",
    "for i in range(n_components):\n",
    "    mu = Variable(torch.randn(n_features), requires_grad=True)\n",
    "    means.append(mu)\n",
    "    d = Variable(torch.ones(n_features), requires_grad=True)\n",
    "    prec_diags.append(d)\n",
    "    W = Variable(torch.randn(n_features, n_features), requires_grad=True)\n",
    "    prec_off_diags.append(W)\n",
    "\n",
    "\n",
    "def mixture_nll(X, weights, means, prec_diags, prec_off_diags):\n",
    "    log_normalized_weights = logsotfmax(weights).transpose(1, 0)\n",
    "    logliks = []\n",
    "    for mu, d, W in zip(means, prec_diags, prec_off_diags):\n",
    "        logliks.append(loglik(X, mu, d, W))\n",
    "    \n",
    "    logliks = torch.cat(logliks).view(n_components, -1)\n",
    "    return torch.mean(-logsumexp(logliks + log_normalized_weights, dim=0))"
   ]
  },
  {
   "cell_type": "code",
   "execution_count": 42,
   "metadata": {},
   "outputs": [
    {
     "data": {
      "text/plain": [
       "Variable containing:\n",
       " 42.4368\n",
       "[torch.FloatTensor of size 1]"
      ]
     },
     "execution_count": 42,
     "metadata": {},
     "output_type": "execute_result"
    }
   ],
   "source": [
    "mixture_nll(X, weights, means, prec_diags, prec_off_diags)"
   ]
  },
  {
   "cell_type": "code",
   "execution_count": 43,
   "metadata": {
    "collapsed": true
   },
   "outputs": [],
   "source": [
    "params = [weights]\n",
    "params.extend(means)\n",
    "params.extend(prec_diags)\n",
    "params.extend(prec_off_diags)"
   ]
  },
  {
   "cell_type": "code",
   "execution_count": 44,
   "metadata": {},
   "outputs": [
    {
     "data": {
      "text/plain": [
       "Variable containing:\n",
       " 1  1  1\n",
       "[torch.FloatTensor of size 1x3]"
      ]
     },
     "execution_count": 44,
     "metadata": {},
     "output_type": "execute_result"
    }
   ],
   "source": [
    "weights"
   ]
  },
  {
   "cell_type": "code",
   "execution_count": 45,
   "metadata": {},
   "outputs": [
    {
     "name": "stdout",
     "output_type": "stream",
     "text": [
      "0 42.43677520751953\n",
      "100 3.063232660293579\n",
      "200 2.824497938156128\n",
      "300 2.7710728645324707\n",
      "400 2.750455141067505\n",
      "500 2.7379977703094482\n",
      "600 2.7285289764404297\n",
      "700 2.720960855484009\n",
      "800 2.7149853706359863\n",
      "900 2.7103676795959473\n",
      "1000 2.706846237182617\n",
      "1100 2.7041540145874023\n",
      "1200 2.7020885944366455\n",
      "1300 2.7006301879882812\n",
      "1400 2.6996991634368896\n",
      "1500 2.699103593826294\n",
      "1600 2.6987264156341553\n",
      "1700 2.698498487472534\n",
      "1800 2.6983683109283447\n",
      "1900 2.698298931121826\n",
      "1982 2.6982688903808594 converged!\n"
     ]
    }
   ],
   "source": [
    "learning_rate = 0.05\n",
    "optimizer = torch.optim.Adam(params, lr=learning_rate)\n",
    "best_loss = np.inf\n",
    "for t in range(5000):\n",
    "    loss = mixture_nll(X, weights, means, prec_diags, prec_off_diags)\n",
    "    if t % 100 == 0:\n",
    "        print(t, loss.data[0])\n",
    "    if loss.data.numpy() < best_loss:\n",
    "        best_loss = loss.data.numpy()\n",
    "    else:\n",
    "        print(t, loss.data[0], 'converged!')\n",
    "        break\n",
    "    optimizer.zero_grad()\n",
    "    loss.backward()\n",
    "    optimizer.step()"
   ]
  },
  {
   "cell_type": "code",
   "execution_count": 46,
   "metadata": {},
   "outputs": [
    {
     "data": {
      "text/plain": [
       "[array([ 1.94653308,  4.54145813], dtype=float32),\n",
       " array([-0.34557292, -0.51862174], dtype=float32),\n",
       " array([ 2.11376023, -0.76199687], dtype=float32)]"
      ]
     },
     "execution_count": 46,
     "metadata": {},
     "output_type": "execute_result"
    }
   ],
   "source": [
    "[m.data.numpy() for m in means]"
   ]
  },
  {
   "cell_type": "code",
   "execution_count": 47,
   "metadata": {},
   "outputs": [
    {
     "data": {
      "text/plain": [
       "array([[-0.60843729, -0.7027044 ],\n",
       "       [ 1.94313479,  4.48270848],\n",
       "       [ 1.51596953, -0.53611044]])"
      ]
     },
     "execution_count": 47,
     "metadata": {},
     "output_type": "execute_result"
    }
   ],
   "source": [
    "gmm_em.means_"
   ]
  },
  {
   "cell_type": "code",
   "execution_count": 48,
   "metadata": {},
   "outputs": [
    {
     "data": {
      "text/plain": [
       "[array([ 1.49014246, -0.4147929 ]),\n",
       " array([ 1.94306561,  4.56908957]),\n",
       " array([-0.70246012, -0.70241087])]"
      ]
     },
     "execution_count": 48,
     "metadata": {},
     "output_type": "execute_result"
    }
   ],
   "source": [
    "true_means"
   ]
  },
  {
   "cell_type": "code",
   "execution_count": 49,
   "metadata": {},
   "outputs": [
    {
     "data": {
      "text/plain": [
       "array([ 0.3512145 ,  0.43690208,  0.21188341], dtype=float32)"
      ]
     },
     "execution_count": 49,
     "metadata": {},
     "output_type": "execute_result"
    }
   ],
   "source": [
    "softmax = torch.nn.Softmax()\n",
    "softmax(weights).view(-1).data.numpy()"
   ]
  },
  {
   "cell_type": "code",
   "execution_count": 50,
   "metadata": {},
   "outputs": [
    {
     "data": {
      "text/plain": [
       "array([ 0.32384082,  0.35908973,  0.31706944])"
      ]
     },
     "execution_count": 50,
     "metadata": {},
     "output_type": "execute_result"
    }
   ],
   "source": [
    "gmm_em.weights_"
   ]
  },
  {
   "cell_type": "code",
   "execution_count": null,
   "metadata": {
    "collapsed": true
   },
   "outputs": [],
   "source": []
  }
 ],
 "metadata": {
  "kernelspec": {
   "display_name": "Python 3",
   "language": "python",
   "name": "python3"
  },
  "language_info": {
   "codemirror_mode": {
    "name": "ipython",
    "version": 3
   },
   "file_extension": ".py",
   "mimetype": "text/x-python",
   "name": "python",
   "nbconvert_exporter": "python",
   "pygments_lexer": "ipython3",
   "version": "3.6.1"
  }
 },
 "nbformat": 4,
 "nbformat_minor": 2
}
